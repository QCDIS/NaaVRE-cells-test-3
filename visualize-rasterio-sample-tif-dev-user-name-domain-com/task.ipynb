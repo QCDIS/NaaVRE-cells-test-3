{
    "metadata": {
        "kernelspec": {
            "name": "python3",
            "display_name": "python3",
            "language": "python3"
        },
        "language_info": {
            "name": "python",
            "version": "3.9.7",
            "mimetype": "text/x-python",
            "codemirror_mode": {
                "name": "ipython",
                "version": 3
            },
            "pygments_lexer": "ipython3",
            "nbconvert_exporter": "python",
            "file_extension": ".py"
        }
    },
    "nbformat_minor": 5,
    "nbformat": 4,
    "cells": [
        {
            "cell_type": "code",
            "source": "# visualize-rasterio sample.tif\n\nimport os \nimport rasterio\nfrom rasterio.plot import show\nfrom matplotlib import pyplot\nimport numpy as np\nfrom rasterio.plot import show\nfrom rasterio.plot import show_hist\n\ndownload_done\n\n# geo_tiff = os.path.join('geotiff_TILE_000_BAND_perc_95_normalized_height_1.tif')\nsrc = rasterio.open(filename)\nshow(src)\nfig, ax = pyplot.subplots(1, figsize=(30, 30))\nshow((src, 1), interpolation='none', ax=ax)\nshow((src, 1), contour=True, ax=ax)\npyplot.show()\nshow_hist(src, bins=50, lw=0.0, stacked=False, alpha=0.3, histtype='stepfilled', title=\"Histogram\")\npyplot.show()\nsrc.close()",
            "metadata": {},
            "execution_count": null,
            "outputs": [],
            "id": "8f484370-6ad0-4fb0-9e94-23810984d17c"
        }
    ]
}