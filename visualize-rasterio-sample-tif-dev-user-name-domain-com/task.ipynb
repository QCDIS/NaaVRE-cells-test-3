{
    "cells": [
        {
            "cell_type": "code",
            "execution_count": 2,
            "id": "8f484370-6ad0-4fb0-9e94-23810984d17c",
            "metadata": {},
            "source": "# visualize-rasterio sample.tif\n\nimport requests\n\nurl = \"https://github.com/mommermi/geotiff_sample/raw/master/sample.tif\"\nfilename = \"/tmp/data/sample.tif\"\n\n# Sending a GET request to the URL\nresponse = requests.get(url)\n\n# Checking if the request was successful (status code 200)\nif response.status_code == 200:\n    # Opening a file in binary write mode and writing the content of the response\n    with open(filename, 'wb') as f:\n        f.write(response.content)\n    print(\"File downloaded successfully.\")\nelse:\n    print(\"Failed to download the file. Status code:\", response.status_code)\n    \n\nimport os \nimport rasterio\nfrom rasterio.plot import show\nfrom matplotlib import pyplot\nimport numpy as np\nfrom rasterio.plot import show\nfrom rasterio.plot import show_hist\n\n# geo_tiff = os.path.join('geotiff_TILE_000_BAND_perc_95_normalized_height_1.tif')\nsrc = rasterio.open(filename)\nshow(src)\nfig, ax = pyplot.subplots(1, figsize=(30, 30))\nshow((src, 1), interpolation='none', ax=ax)\nshow((src, 1), contour=True, ax=ax)\npyplot.show()\nshow_hist(src, bins=50, lw=0.0, stacked=False, alpha=0.3, histtype='stepfilled', title=\"Histogram\")\npyplot.show()\nsrc.close()"
        }
    ],
    "metadata": {
        "kernelspec": {
            "display_name": "python3",
            "language": "python3",
            "name": "python3"
        },
        "language_info": {
            "codemirror_mode": {
                "name": "ipython",
                "version": 3
            },
            "file_extension": ".py",
            "mimetype": "text/x-python",
            "name": "python",
            "nbconvert_exporter": "python",
            "pygments_lexer": "ipython3",
            "version": "3.12.1"
        }
    },
    "nbformat": 4,
    "nbformat_minor": 5
}