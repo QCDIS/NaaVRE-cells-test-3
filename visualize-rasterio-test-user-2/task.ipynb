{
  "nbformat": 4,
  "nbformat_minor": 5,
  "metadata": {},
  "cells": [
    {
      "id": "56072104",
      "cell_type": "code",
      "metadata": {},
      "execution_count": null,
      "source": "S6_done\n\ngeo_tiff = os.path.join(conf_local_path_geotiff, 'geotiff_TILE_000_BAND_perc_95_normalized_height.tif')\nsrc = rasterio.open(geo_tiff)\nshow(src)\nfig, ax = pyplot.subplots(1, figsize=(30, 30))\nshow((src, 1), interpolation='none', ax=ax)\nshow((src, 1), contour=True, ax=ax)\npyplot.show()\nshow_hist(src, bins=50, lw=0.0, stacked=False, alpha=0.3, histtype='stepfilled', title=\"Histogram\")\npyplot.show()",
      "outputs": []
    }
  ]
}